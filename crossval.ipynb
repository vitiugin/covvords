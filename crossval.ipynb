{
 "cells": [
  {
   "cell_type": "code",
   "execution_count": null,
   "metadata": {},
   "outputs": [],
   "source": [
    "import pandas as pd\n",
    "import numpy as np\n",
    "\n",
    "from laserembeddings import Laser\n",
    "from sklearn import tree\n",
    "from sklearn import svm\n",
    "from sklearn.metrics import accuracy_score\n",
    "from sklearn.metrics import roc_auc_score\n",
    "\n",
    "from sklearn.ensemble import RandomForestClassifier\n",
    "from sklearn.linear_model import SGDClassifier\n",
    "from sklearn.linear_model import Perceptron\n",
    "from sklearn.naive_bayes import MultinomialNB\n",
    "from sklearn.neural_network import MLPClassifier\n",
    "from sklearn.model_selection import cross_validate\n",
    "\n",
    "laser = Laser()"
   ]
  },
  {
   "cell_type": "code",
   "execution_count": null,
   "metadata": {},
   "outputs": [],
   "source": [
    "def eval_print(clf, text, label):\n",
    "    scores = cross_validate(clf, text, label, cv=10, scoring='roc_auc')\n",
    "    print('ROC AUC =', np.mean(scores['test_score']))\n",
    "\n",
    "def eval_param(text, label):\n",
    "    ''' Function train models.\n",
    "    data >>> sklearn model'''\n",
    "    \n",
    "    print(\"SVC\")\n",
    "    clf = svm.SVC(kernel='linear')\n",
    "    eval_print(clf, text, label)\n",
    "    \n",
    "    print(\"\\nRandom Forest\")\n",
    "    clf = RandomForestClassifier(n_estimators=1000, criterion='entropy')\n",
    "    eval_print(clf, text, label)\n",
    "    \n",
    "    print(\"\\nStochastic Gradient Descent\")\n",
    "    clf = SGDClassifier(loss=\"squared_hinge\", penalty=\"l2\", max_iter=1000)\n",
    "    eval_print(clf, text, label)\n",
    "    \n",
    "    print(\"\\nPerceptron\")\n",
    "    clf = Perceptron(penalty='l1',tol=1e-3, random_state=0)\n",
    "    eval_print(clf, text, label)"
   ]
  },
  {
   "cell_type": "code",
   "execution_count": null,
   "metadata": {},
   "outputs": [],
   "source": [
    "lang = 'ar'\n",
    "data = pd.read_csv('data/train/'+ lang +'.tsv', delimiter=\"\\t\")\n",
    "print('Data size:', len(data))\n",
    "emb = laser.embed_sentences(data['text'], lang=lang)\n",
    "eval_param(emb, data['label'])"
   ]
  }
 ],
 "metadata": {
  "kernelspec": {
   "display_name": "covvords",
   "language": "python",
   "name": "covvords"
  },
  "language_info": {
   "codemirror_mode": {
    "name": "ipython",
    "version": 3
   },
   "file_extension": ".py",
   "mimetype": "text/x-python",
   "name": "python",
   "nbconvert_exporter": "python",
   "pygments_lexer": "ipython3",
   "version": "3.7.2"
  }
 },
 "nbformat": 4,
 "nbformat_minor": 2
}
